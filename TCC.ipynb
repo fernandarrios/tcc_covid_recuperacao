{
  "nbformat": 4,
  "nbformat_minor": 0,
  "metadata": {
    "colab": {
      "provenance": [],
      "authorship_tag": "ABX9TyPcZKJ9e8wxJYQKej7nw5uD",
      "include_colab_link": true
    },
    "kernelspec": {
      "name": "python3",
      "display_name": "Python 3"
    },
    "language_info": {
      "name": "python"
    }
  },
  "cells": [
    {
      "cell_type": "markdown",
      "metadata": {
        "id": "view-in-github",
        "colab_type": "text"
      },
      "source": [
        "<a href=\"https://colab.research.google.com/github/fernandarrios/tcc_covid_recuperacao/blob/main/TCC.ipynb\" target=\"_parent\"><img src=\"https://colab.research.google.com/assets/colab-badge.svg\" alt=\"Open In Colab\"/></a>"
      ]
    },
    {
      "cell_type": "markdown",
      "source": [
        "#To Do:\n",
        " \n",
        " - Gráfico de análise temporal da evolução dos casos;\n",
        " - Rodar código que acrescenta uma coluna de id para ordenar o gráfico; "
      ],
      "metadata": {
        "id": "FRp8kwFYpXas"
      }
    },
    {
      "cell_type": "markdown",
      "source": [
        "# Importando os dados"
      ],
      "metadata": {
        "id": "BwnvLXGHr-mc"
      }
    },
    {
      "cell_type": "markdown",
      "source": [
        "Dados até o dia 17/09/22"
      ],
      "metadata": {
        "id": "QnNl9chHq5Fx"
      }
    },
    {
      "cell_type": "code",
      "execution_count": null,
      "metadata": {
        "id": "RW9jUQP1Fhki"
      },
      "outputs": [],
      "source": [
        "import pandas as pd\n",
        "import matplotlib.pyplot as plt\n",
        "import seaborn as sns\n",
        "from pandas_profiling.profile_report import ProfileReport\n",
        "\n",
        "\n",
        "def plot_chart(desired_variable, df, column, title):\n",
        "    plt.figure(figsize=(12, 8))\n",
        "    sns.countplot(y=desired_variable,\n",
        "                  data=df,\n",
        "                  palette='rocket',\n",
        "                  order=column.value_counts().index).set_title(title)\n",
        "    plt.show()\n",
        "\n",
        "\n",
        "def fixing_data_type(column, first_symbol, second_symbol):\n",
        "    try:\n",
        "        column = column.apply(lambda x : str(x).replace(first_symbol, second_symbol))\n",
        "        column = pd.to_datetime(column, format='%Y%m%d')\n",
        "    except ValueError:\n",
        "        column = column.apply(lambda x : str(x).replace(first_symbol, second_symbol))\n",
        "        column = pd.to_datetime(column, dayfirst=True)\n",
        "    return column"
      ]
    },
    {
      "cell_type": "code",
      "source": [
        "covid_sistema_um = pd.read_csv(\n",
        "    'C:/Users/nanda/PycharmProjects/puc_tcc/XLSX_Sistemas_1.txt', sep='\\t')\n",
        "covid_sistema_dois = pd.read_csv(\n",
        "    'C:/Users/nanda/PycharmProjects/puc_tcc/XLSX_Sistemas_2.txt', sep='\\t')\n",
        "covid_sistema_tres = pd.read_csv(\n",
        "    'C:/Users/nanda/PycharmProjects/puc_tcc/XLSX_Sistemas_3.txt', sep='\\t')\n",
        "covid_sistema_quatro = pd.read_csv(\n",
        "    'C:/Users/nanda/PycharmProjects/puc_tcc/xlsx_sistemas.txt', sep='\\t')\n",
        "\n",
        "covid_sistema_um['DATA_NOTIFICACAO'] = fixing_data_type(\n",
        "    covid_sistema_um['DATA_NOTIFICACAO'], '-', '')\n",
        "covid_sistema_dois['DATA_NOTIFICACAO'] = fixing_data_type(\n",
        "    covid_sistema_dois['DATA_NOTIFICACAO'], '-', '')\n",
        "covid_sistema_tres['DATA_NOTIFICACAO'] = fixing_data_type(\n",
        "    covid_sistema_tres['DATA_NOTIFICACAO'], '-', '')\n",
        "covid_sistema_quatro['DATA_NOTIFICACAO'] = fixing_data_type(\n",
        "    covid_sistema_quatro['DATA_NOTIFICACAO'], '/', '-')\n",
        "\n",
        "covid_df = pd.concat([covid_sistema_um, covid_sistema_dois, covid_sistema_tres,\n",
        "                      covid_sistema_quatro])\n",
        "\n",
        "report = ProfileReport(covid_df, title='Primeira investigação do dataset')\n",
        "report.to_file('TCC_COVID_REPORT_1.html')"
      ],
      "metadata": {
        "id": "JQkkUQBGre20"
      },
      "execution_count": null,
      "outputs": []
    },
    {
      "cell_type": "markdown",
      "source": [
        "# Análise Exploratória"
      ],
      "metadata": {
        "id": "tMoa0zTmr2W4"
      }
    },
    {
      "cell_type": "markdown",
      "source": [
        "#### Eliminando colunas que não fazem sentido para o nosso problema e nem faz sentido para conhecermos o dataset"
      ],
      "metadata": {
        "id": "lviAmGvIrig6"
      }
    },
    {
      "cell_type": "code",
      "source": [
        "covid_df.drop(columns=['ID', 'CODIGO', 'DATA_EVOLUCAO', 'MICRO', 'MACRO', \n",
        "                       'ETNIA', 'MUNICIPIO_RESIDENCIA', 'DATA_1_SINTOMA', 'URS', \n",
        "                       'DATA_ATUALIZACAO', 'CLASSIFICACAO_CASO'], inplace=True)"
      ],
      "metadata": {
        "id": "8g_BGhVUrf75"
      },
      "execution_count": null,
      "outputs": []
    },
    {
      "cell_type": "markdown",
      "source": [
        "#### Como vimos no profile report, temos valores para idade que não fazem sentido, vamos investigar melhor"
      ],
      "metadata": {
        "id": "fGXfCaPXsxXq"
      }
    },
    {
      "cell_type": "markdown",
      "source": [
        " Alguém de quase 400 anos não faz sentido, pode ter ocorrido algum erro de digitação. \n",
        " \n",
        " Vamos analisar melhor os outliers"
      ],
      "metadata": {
        "id": "epj3zNzHs3TF"
      }
    },
    {
      "cell_type": "code",
      "source": [
        "covid_df['IDADE'].min()\n",
        "covid_df['IDADE'].max()"
      ],
      "metadata": {
        "id": "nk1nuSsvszIs"
      },
      "execution_count": null,
      "outputs": []
    },
    {
      "cell_type": "code",
      "source": [
        "sns.boxplot(covid_df['IDADE'])\n",
        "plt.show()"
      ],
      "metadata": {
        "id": "PHs8Rwdp6maR"
      },
      "execution_count": null,
      "outputs": []
    },
    {
      "cell_type": "markdown",
      "source": [
        "Tem 1127 outliers e 1825 valores nulos, no primeiro momento pensei em só pegar os dois primeiros números e considerar o terceiro como erro de digitação e, mas o preenchimento da faixa etária deve ter ocorrido de forma automática de acordo com o input manual da idade. Decidi então estabelecer um valor máximo de idade de 100 anos, e filtrar todos os valores que fogem disso."
      ],
      "metadata": {
        "id": "FrJKAy2XtD-F"
      }
    },
    {
      "cell_type": "code",
      "source": [
        "covid_df = covid_df.loc[covid_df['IDADE'] <= 100]"
      ],
      "metadata": {
        "id": "L4VunXQ24ywY"
      },
      "execution_count": null,
      "outputs": []
    },
    {
      "cell_type": "code",
      "source": [
        "sns.boxplot(covid_df['IDADE'])\n",
        "plt.show()"
      ],
      "metadata": {
        "id": "AiaqzT096tvR"
      },
      "execution_count": null,
      "outputs": []
    },
    {
      "cell_type": "markdown",
      "source": [
        "#### Contagem por faixa etária "
      ],
      "metadata": {
        "id": "1P1XNNl7zsI4"
      }
    },
    {
      "cell_type": "code",
      "source": [
        "covid_df['FAIXA_ETARIA'].value_counts()\n",
        "plot_chart('FAIXA_ETARIA', covid_df, covid_df['FAIXA_ETARIA'],\n",
        "           'Faixa etária dos casos de covid')"
      ],
      "metadata": {
        "id": "mzRWExqatAXE"
      },
      "execution_count": null,
      "outputs": []
    },
    {
      "cell_type": "markdown",
      "source": [
        "Como podemos ver, as pessoas mais afetadas foram as pessoas de 30 a 39 anos"
      ],
      "metadata": {
        "id": "Z2ETLAMa6yT_"
      }
    },
    {
      "cell_type": "markdown",
      "source": [
        "#### Qual o local que mais publicou informação sobre a covid em MG?"
      ],
      "metadata": {
        "id": "cqY-du0O7ot5"
      }
    },
    {
      "cell_type": "code",
      "source": [
        "covid_df['ORIGEM_DA_INFORMACAO'].value_counts()\n",
        "plot_chart('ORIGEM_DA_INFORMACAO', covid_df, covid_df['ORIGEM_DA_INFORMACAO'],\n",
        "           'Portal de Publicação')"
      ],
      "metadata": {
        "id": "Wbsr3vlr6xkw"
      },
      "execution_count": null,
      "outputs": []
    },
    {
      "cell_type": "markdown",
      "source": [
        "O maior portal responsável por divulgar os números da COVID-19 em MG foi o ESUS."
      ],
      "metadata": {
        "id": "Ttup8YwZ7wU7"
      }
    },
    {
      "cell_type": "markdown",
      "source": [
        "#### Quantas pessoas apresentaram comorbidade?"
      ],
      "metadata": {
        "id": "rnjpgUwq7-sQ"
      }
    },
    {
      "cell_type": "code",
      "source": [
        "covid_df['COMORBIDADE'].value_counts()\n",
        "plot_chart('COMORBIDADE', covid_df, covid_df['COMORBIDADE'],\n",
        "           'Presença ou não de comorbidade')"
      ],
      "metadata": {
        "id": "aT-hII7j8DOh"
      },
      "execution_count": null,
      "outputs": []
    },
    {
      "cell_type": "markdown",
      "source": [
        "#### Qual a raça predominante?"
      ],
      "metadata": {
        "id": "P6VzeSGJ8GuR"
      }
    },
    {
      "cell_type": "code",
      "source": [
        "covid_df['RACA'].value_counts()\n",
        "plot_chart('RACA', covid_df, covid_df['RACA'], 'Raça dos cidadãos')"
      ],
      "metadata": {
        "id": "jhupsRw-8YZl"
      },
      "execution_count": null,
      "outputs": []
    },
    {
      "cell_type": "markdown",
      "source": [
        "#### Quantas pessoas foram internadas?"
      ],
      "metadata": {
        "id": "r-xKNWlk8d0M"
      }
    },
    {
      "cell_type": "code",
      "source": [
        "covid_df['INTERNACAO'].value_counts()\n",
        "plot_chart('INTERNACAO', covid_df, covid_df['INTERNACAO'], 'Casos de internação')\n"
      ],
      "metadata": {
        "id": "rh_EdKVT8iwY"
      },
      "execution_count": null,
      "outputs": []
    },
    {
      "cell_type": "markdown",
      "source": [
        "#### Elas foram para o uti?"
      ],
      "metadata": {
        "id": "7gH4OlZW8vHK"
      }
    },
    {
      "cell_type": "code",
      "source": [
        "covid_df['UTI'].value_counts()\n",
        "plot_chart('UTI', covid_df, covid_df['UTI'], 'Contagem de casos de internação na UTI')"
      ],
      "metadata": {
        "id": "4Gl5lGU78u5g"
      },
      "execution_count": null,
      "outputs": []
    },
    {
      "cell_type": "markdown",
      "source": [
        "#### Quantas sobreviveram? Quantas morreram?"
      ],
      "metadata": {
        "id": "kNaVOfev83C5"
      }
    },
    {
      "cell_type": "code",
      "source": [
        "covid_df['EVOLUCAO'].value_counts()\n",
        "plot_chart('EVOLUCAO', covid_df, covid_df['EVOLUCAO'], 'Contagem de evolução dos casos')\n"
      ],
      "metadata": {
        "id": "AhcFmWvP82uy"
      },
      "execution_count": null,
      "outputs": []
    },
    {
      "cell_type": "markdown",
      "source": [
        "Como podemos ver, temos muito mais casos de pessoas recuperadas, então teremos que fazer o balanceamento delas. O método escolhido irá ser o oversampling de óbitos."
      ],
      "metadata": {
        "id": "-hYk838X9DZH"
      }
    },
    {
      "cell_type": "markdown",
      "source": [
        "# Preparação para o modelo"
      ],
      "metadata": {
        "id": "OumFHWKtFZG5"
      }
    },
    {
      "cell_type": "markdown",
      "source": [
        "#### Eliminando colunas que não fazem sentido para o ML"
      ],
      "metadata": {
        "id": "Yk8-yI7GFeEM"
      }
    },
    {
      "cell_type": "code",
      "source": [
        "covid_df.drop(columns=['DATA_NOTIFICACAO', 'ORIGEM_DA_INFORMACAO'], inplace=True)"
      ],
      "metadata": {
        "id": "FVzvex3tFl3s"
      },
      "execution_count": null,
      "outputs": []
    }
  ]
}